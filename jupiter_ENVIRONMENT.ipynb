{
 "cells": [
  {
   "cell_type": "code",
   "execution_count": 30,
   "metadata": {},
   "outputs": [
    {
     "name": "stdout",
     "output_type": "stream",
     "text": [
      "     name  age gender   salary  promotion  country\n",
      "0   dibbo   21      M  2352143      23173    India\n",
      "1   shani   13      M  2153632     321897  England\n",
      "2  aakash  321      M     3423        543    Japan\n"
     ]
    }
   ],
   "source": [
    "from sklearn.impute import SimpleImputer\n",
    "import pandas as pd\n",
    "import numpy as np\n",
    "import matplotlib.pyplot as plt\n",
    "import seaborn as sns\n",
    "df = pd.read_csv(\"new2.csv\", delimiter=',')\n",
    "salary = np.array(df['salary'])\n",
    "# print(salary)\n",
    "# name = np.array(df[\"name\"])\n",
    "# # print(name)\n",
    "# gender = np.array(df[\"gender\"].unique)\n",
    "# print(gender)\n",
    "# promotion = np.array(df[\"promotion\"])\n",
    "# print(salary)\n",
    "# df.shape\n",
    "print(df)\n",
    "# print(df.shape)\n",
    "# print(type(df))\n",
    "# print(df[\"name\"].dtype)\n",
    "# Unique = df[\"name\"].unique()\n",
    "# print(Unique)\n",
    "# print(df.iloc[0:3])  # slicing the list\n",
    "# print(promotion) #Error in the statement\n",
    "# print(df.mean())\n",
    "# print(df.median())\n",
    "# print(df.mode(axis=0))  # X-axis\n",
    "# print(df.mode(axis=1))  # along Y axis\n",
    "# df.isna().any()  # this is to check whether any entry is missing or not\n",
    "# df.describe() \n",
    "# correlations = df.corr()\n",
    "# sns.heatmap(data=correlations, square=True, cmap='bwr')\n",
    "# df[[\"name\", \"salary\"]].groupby([\"name\"]).describe().unstack()\n",
    "# plt.yticks(rotation=0)\n",
    "# plt.xticks(rotation=90)\n"
   ]
  },
  {
   "cell_type": "code",
   "execution_count": 56,
   "metadata": {},
   "outputs": [],
   "source": [
    "import seaborn as sns\n",
    "import pandas as pd\n",
    "df = pd.read_csv(\"new2.csv\", delimiter=',')\n",
    "# print(df)\n",
    "# sns.boxplot(x=df[\"salary\"])\n",
    "flights = sns.load_dataset(\"flights\")\n",
    "# flights\n",
    "# flights.head()\n",
    "# may_flights = flights.query(\"month == 'Dec'\")\n",
    "# sns.lineplot(data=may_flights, x=\"year\", y=\"passengers\")\n",
    "# flights_wide = flights.pivot(\"year\", \"month\", \"passengers\")\n",
    "# flights_wide.head()\n",
    "# sns.lineplot(data=flights_wide)\n",
    "# sns.lineplot(data=flights, x=\"year\", y=\"passengers\",hue='month')\n",
    "# filter = df['35'].values > 20\n",
    "# print(filter)\n",
    "# df_outlier_rem = df[filter]\n",
    "# df_outlier_rem\n",
    "\n"
   ]
  },
  {
   "cell_type": "code",
   "execution_count": 78,
   "metadata": {},
   "outputs": [
    {
     "name": "stdout",
     "output_type": "stream",
     "text": [
      "(9, 10)\n",
      "[ True False False False False False False  True False]\n"
     ]
    },
    {
     "data": {
      "text/html": [
       "<div>\n",
       "<style scoped>\n",
       "    .dataframe tbody tr th:only-of-type {\n",
       "        vertical-align: middle;\n",
       "    }\n",
       "\n",
       "    .dataframe tbody tr th {\n",
       "        vertical-align: top;\n",
       "    }\n",
       "\n",
       "    .dataframe thead th {\n",
       "        text-align: right;\n",
       "    }\n",
       "</style>\n",
       "<table border=\"1\" class=\"dataframe\">\n",
       "  <thead>\n",
       "    <tr style=\"text-align: right;\">\n",
       "      <th></th>\n",
       "      <th>1</th>\n",
       "      <th>Eldon Base for stackable storage shelf, platinum</th>\n",
       "      <th>Muhammed MacIntyre</th>\n",
       "      <th>3</th>\n",
       "      <th>-213.25</th>\n",
       "      <th>38.94</th>\n",
       "      <th>35</th>\n",
       "      <th>Nunavut</th>\n",
       "      <th>Storage &amp; Organization</th>\n",
       "      <th>0.8</th>\n",
       "    </tr>\n",
       "  </thead>\n",
       "  <tbody>\n",
       "    <tr>\n",
       "      <th>0</th>\n",
       "      <td>2</td>\n",
       "      <td>1.7 Cubic Foot Compact \"Cube\" Office Refrigera...</td>\n",
       "      <td>Barry French</td>\n",
       "      <td>293</td>\n",
       "      <td>457.81</td>\n",
       "      <td>208.16</td>\n",
       "      <td>68.02</td>\n",
       "      <td>Nunavut</td>\n",
       "      <td>Appliances</td>\n",
       "      <td>0.58</td>\n",
       "    </tr>\n",
       "    <tr>\n",
       "      <th>7</th>\n",
       "      <td>9</td>\n",
       "      <td>SAFCO Commercial Wire Shelving, Black</td>\n",
       "      <td>Monica Federle</td>\n",
       "      <td>643</td>\n",
       "      <td>-695.26</td>\n",
       "      <td>138.14</td>\n",
       "      <td>35.00</td>\n",
       "      <td>Nunavut</td>\n",
       "      <td>Storage &amp; Organization</td>\n",
       "      <td>NaN</td>\n",
       "    </tr>\n",
       "  </tbody>\n",
       "</table>\n",
       "</div>"
      ],
      "text/plain": [
       "   1   Eldon Base for stackable storage shelf, platinum Muhammed MacIntyre  \\\n",
       "0  2  1.7 Cubic Foot Compact \"Cube\" Office Refrigera...       Barry French   \n",
       "7  9              SAFCO Commercial Wire Shelving, Black     Monica Federle   \n",
       "\n",
       "     3  -213.25   38.94     35  Nunavut  Storage & Organization   0.8  \n",
       "0  293   457.81  208.16  68.02  Nunavut              Appliances  0.58  \n",
       "7  643  -695.26  138.14  35.00  Nunavut  Storage & Organization   NaN  "
      ]
     },
     "execution_count": 78,
     "metadata": {},
     "output_type": "execute_result"
    }
   ],
   "source": [
    "from sklearn.impute import SimpleImputer\n",
    "import pandas as pd\n",
    "import numpy as np\n",
    "import matplotlib.pyplot as plt\n",
    "import seaborn as sns\n",
    "df = pd.read_csv(\"Good2.csv\", delimiter=',')\n",
    "# print(df)\n",
    "# correlations = df.corr()\n",
    "# sns.heatmap(data=correlations, square=True, cmap='bwr')\n",
    "print(df.shape)\n",
    "# sns.boxplot(x=df[\"35\"])\n",
    "filter = df['35'].values > 20\n",
    "print(filter)\n",
    "df_outlier_rem = df[filter]\n",
    "df_outlier_rem\n"
   ]
  },
  {
   "cell_type": "code",
   "execution_count": 100,
   "metadata": {},
   "outputs": [
    {
     "name": "stdout",
     "output_type": "stream",
     "text": [
      "[[ 1.   2. ]\n",
      " [ 4.   3. ]\n",
      " [ 7.   6. ]\n",
      " [ 4.  67. ]\n",
      " [ 4.  19.5]]\n"
     ]
    }
   ],
   "source": [
    "from sklearn.impute import SimpleImputer\n",
    "import pandas as pd\n",
    "import numpy as np\n",
    "import matplotlib.pyplot as plt\n",
    "\n",
    "import seaborn as sns\n",
    "file = open(\"new2.csv\")\n",
    "df = pd.read_csv(file, delimiter=\",\")\n",
    "salary = np.array(df['salary'])\n",
    "# salary\n",
    "read = list(df)\n",
    "# print(read)\n",
    "im = SimpleImputer(missing_values=np.nan, strategy='mean')\n",
    "X = [[1, 2], [np.nan, 3], [7, 6], [np.nan, 67], [np.nan, np.nan]]\n",
    "type(X)\n",
    "type(salary)\n",
    "im.fit(X)\n",
    "SimpleImputer()\n",
    "print(im.transform(X))\n",
    "# df.target\n",
    "# data = im.inverse_transform(X) #error\n"
   ]
  },
  {
   "cell_type": "code",
   "execution_count": 2,
   "metadata": {},
   "outputs": [
    {
     "data": {
      "text/plain": [
       "['age', 'sex', 'bmi', 'bp', 's1', 's2', 's3', 's4', 's5', 's6']"
      ]
     },
     "execution_count": 2,
     "metadata": {},
     "output_type": "execute_result"
    }
   ],
   "source": [
    "from sklearn.datasets import load_diabetes\n",
    "dataset = load_diabetes()\n",
    "# dataset\n",
    "# dataset.data # data\n",
    "# dataset.target  # data's target in a array\n",
    "dataset['feature_names']\n"
   ]
  },
  {
   "cell_type": "code",
   "execution_count": 3,
   "metadata": {},
   "outputs": [
    {
     "name": "stdout",
     "output_type": "stream",
     "text": [
      "          age       sex       bmi        bp        s1        s2        s3  \\\n",
      "0    0.038076  0.050680  0.061696  0.021872 -0.044223 -0.034821 -0.043401   \n",
      "1   -0.001882 -0.044642 -0.051474 -0.026328 -0.008449 -0.019163  0.074412   \n",
      "2    0.085299  0.050680  0.044451 -0.005670 -0.045599 -0.034194 -0.032356   \n",
      "3   -0.089063 -0.044642 -0.011595 -0.036656  0.012191  0.024991 -0.036038   \n",
      "4    0.005383 -0.044642 -0.036385  0.021872  0.003935  0.015596  0.008142   \n",
      "..        ...       ...       ...       ...       ...       ...       ...   \n",
      "437  0.041708  0.050680  0.019662  0.059744 -0.005697 -0.002566 -0.028674   \n",
      "438 -0.005515  0.050680 -0.015906 -0.067642  0.049341  0.079165 -0.028674   \n",
      "439  0.041708  0.050680 -0.015906  0.017293 -0.037344 -0.013840 -0.024993   \n",
      "440 -0.045472 -0.044642  0.039062  0.001215  0.016318  0.015283 -0.028674   \n",
      "441 -0.045472 -0.044642 -0.073030 -0.081413  0.083740  0.027809  0.173816   \n",
      "\n",
      "           s4        s5        s6  target  \n",
      "0   -0.002592  0.019907 -0.017646   151.0  \n",
      "1   -0.039493 -0.068332 -0.092204    75.0  \n",
      "2   -0.002592  0.002861 -0.025930   141.0  \n",
      "3    0.034309  0.022688 -0.009362   206.0  \n",
      "4   -0.002592 -0.031988 -0.046641   135.0  \n",
      "..        ...       ...       ...     ...  \n",
      "437 -0.002592  0.031193  0.007207   178.0  \n",
      "438  0.034309 -0.018114  0.044485   104.0  \n",
      "439 -0.011080 -0.046883  0.015491   132.0  \n",
      "440  0.026560  0.044529 -0.025930   220.0  \n",
      "441 -0.039493 -0.004222  0.003064    57.0  \n",
      "\n",
      "[442 rows x 11 columns]\n"
     ]
    },
    {
     "data": {
      "text/plain": [
       "age       False\n",
       "sex       False\n",
       "bmi       False\n",
       "bp        False\n",
       "s1        False\n",
       "s2        False\n",
       "s3        False\n",
       "s4        False\n",
       "s5        False\n",
       "s6        False\n",
       "target    False\n",
       "dtype: bool"
      ]
     },
     "execution_count": 3,
     "metadata": {},
     "output_type": "execute_result"
    }
   ],
   "source": [
    "import pandas as pd\n",
    "import numpy as np\n",
    "df = pd.DataFrame(np.c_[dataset['data'], dataset['target']], columns=dataset['feature_names'] +\n",
    "                  ['target'])\n",
    "print(df)\n",
    "df.isnull().any()\n"
   ]
  },
  {
   "cell_type": "code",
   "execution_count": 49,
   "metadata": {},
   "outputs": [
    {
     "data": {
      "image/png": "[encoded data removed]",
      "text/plain": [
       "<Figure size 432x288 with 1 Axes>"
      ]
     },
     "metadata": {
      "needs_background": "light"
     },
     "output_type": "display_data"
    },
    {
     "data": {
      "image/png": "[encoded data removed]",
      "text/plain": [
       "<Figure size 432x288 with 1 Axes>"
      ]
     },
     "metadata": {
      "needs_background": "light"
     },
     "output_type": "display_data"
    },
    {
     "data": {
      "image/png": "[encoded data removed]",
      "text/plain": [
       "<Figure size 432x288 with 1 Axes>"
      ]
     },
     "metadata": {
      "needs_background": "light"
     },
     "output_type": "display_data"
    },
    {
     "data": {
      "image/png": "[encoded data removed]",
      "text/plain": [
       "<Figure size 432x288 with 1 Axes>"
      ]
     },
     "metadata": {
      "needs_background": "light"
     },
     "output_type": "display_data"
    },
    {
     "data": {
      "image/png": "[encoded data removed]",
      "text/plain": [
       "<Figure size 432x288 with 1 Axes>"
      ]
     },
     "metadata": {
      "needs_background": "light"
     },
     "output_type": "display_data"
    },
    {
     "data": {
      "image/png": "[encoded data removed]",
      "text/plain": [
       "<Figure size 432x288 with 1 Axes>"
      ]
     },
     "metadata": {
      "needs_background": "light"
     },
     "output_type": "display_data"
    },
    {
     "data": {
      "image/png": "[encoded data removed]",
      "text/plain": [
       "<Figure size 432x288 with 1 Axes>"
      ]
     },
     "metadata": {
      "needs_background": "light"
     },
     "output_type": "display_data"
    },
    {
     "data": {
      "image/png": "[encoded data removed]",
      "text/plain": [
       "<Figure size 432x288 with 1 Axes>"
      ]
     },
     "metadata": {
      "needs_background": "light"
     },
     "output_type": "display_data"
    },
    {
     "data": {
      "image/png": "[encoded data removed]",
      "text/plain": [
       "<Figure size 432x288 with 1 Axes>"
      ]
     },
     "metadata": {
      "needs_background": "light"
     },
     "output_type": "display_data"
    },
    {
     "data": {
      "image/png": "[encoded data removed]",
      "text/plain": [
       "<Figure size 432x288 with 1 Axes>"
      ]
     },
     "metadata": {
      "needs_background": "light"
     },
     "output_type": "display_data"
    },
    {
     "data": {
      "image/png": "[encoded data removed]",
      "text/plain": [
       "<Figure size 432x288 with 1 Axes>"
      ]
     },
     "metadata": {
      "needs_background": "light"
     },
     "output_type": "display_data"
    }
   ],
   "source": [
    "import numpy as np\n",
    "import pandas as pd\n",
    "import matplotlib.pyplot as plt\n",
    "%matplotlib inline\n",
    "# df = pd.DataFrame(np.c_[dataset['data'], dataset['target']], columns=dataset['feature_names'] +\n",
    "#                  ['target'])\n",
    "\n",
    "for columns in df:\n",
    "    plt.figure()\n",
    "    df.boxplot([columns])\n"
   ]
  },
  {
   "cell_type": "code",
   "execution_count": 72,
   "metadata": {},
   "outputs": [
    {
     "name": "stdout",
     "output_type": "stream",
     "text": [
      "0    1\n",
      "1    2\n",
      "2    3\n",
      "3    4\n",
      "4    5\n",
      "dtype: int32\n",
      "0    1\n",
      "1    2\n",
      "2    3\n",
      "3    4\n",
      "4    5\n",
      "dtype: int32\n",
      "[1 2 3 4 5]\n",
      "          Team  Year Rank\n",
      "0  West Indies  1975    7\n",
      "1        India  1984    7\n",
      "2    Australia  1988    2\n",
      "3     Pakistan  1992    1\n",
      "4   Newzealand  2028    3\n",
      "          Team  Year Rank\n",
      "0  West Indies  1975    7\n",
      "1        India  1984    7\n",
      "2    Australia  1988    2\n",
      "3     Pakistan  1992    1\n",
      "4   Newzealand  2028    3\n"
     ]
    }
   ],
   "source": [
    "import pandas as pd\n",
    "import numpy as np\n",
    "df = pd.Series(np.arange(1, 6))\n",
    "print(df.head(6))\n",
    "print(df.tail(6))\n",
    "print(df.values)\n",
    "worldcup = {'Team': ['West Indies', 'India', 'Australia', 'Pakistan', 'Newzealand'],\n",
    "            'Rank': ['7', '7', '2', '1', '3']}\n",
    "wining = {'Team': ['West Indies', 'India', 'Australia', 'Pakistan', 'Newzealand'],\n",
    "          'Year': ['1975', '1984', '1988', '1992', '2028']}\n",
    "df2 = pd.DataFrame(worldcup)\n",
    "df1 = pd.DataFrame(wining)\n",
    "'''print(df2)\n",
    "print(df2.groupby(['Team', 'Rank']).groups)\n",
    "print(pd.concat([df, df2], axis=1))\n",
    "print(\"-------------------------------------\")\n",
    "print(pd.merge(df1, df2, on='Team'))\n",
    "print(\"-------------------------------------\")\n",
    "print(pd.merge(df1, df2, on='Team',how='left'))\n",
    "print(\"----------------------\")\n",
    "print(pd.merge(df1, df2, on='Team',how='right'))\n",
    "print(\"----------------------------\")\n",
    "'''\n",
    "print(pd.merge(df1, df2, on='Team', how='inner'))\n",
    "print(pd.merge(df1, df2, on='Team', how='outer'))\n"
   ]
  },
  {
   "cell_type": "code",
   "execution_count": 82,
   "metadata": {},
   "outputs": [
    {
     "data": {
      "text/html": [
       "<div>\n",
       "<style scoped>\n",
       "    .dataframe tbody tr th:only-of-type {\n",
       "        vertical-align: middle;\n",
       "    }\n",
       "\n",
       "    .dataframe tbody tr th {\n",
       "        vertical-align: top;\n",
       "    }\n",
       "\n",
       "    .dataframe thead th {\n",
       "        text-align: right;\n",
       "    }\n",
       "</style>\n",
       "<table border=\"1\" class=\"dataframe\">\n",
       "  <thead>\n",
       "    <tr style=\"text-align: right;\">\n",
       "      <th></th>\n",
       "      <th>age</th>\n",
       "      <th>gender</th>\n",
       "      <th>salary</th>\n",
       "      <th>promotion</th>\n",
       "      <th>country</th>\n",
       "    </tr>\n",
       "    <tr>\n",
       "      <th>name</th>\n",
       "      <th></th>\n",
       "      <th></th>\n",
       "      <th></th>\n",
       "      <th></th>\n",
       "      <th></th>\n",
       "    </tr>\n",
       "  </thead>\n",
       "  <tbody>\n",
       "    <tr>\n",
       "      <th>dev gupta</th>\n",
       "      <td>21</td>\n",
       "      <td>M</td>\n",
       "      <td>2352143</td>\n",
       "      <td>23173</td>\n",
       "      <td>India</td>\n",
       "    </tr>\n",
       "    <tr>\n",
       "      <th>jack</th>\n",
       "      <td>13</td>\n",
       "      <td>M</td>\n",
       "      <td>2153632</td>\n",
       "      <td>321897</td>\n",
       "      <td>England</td>\n",
       "    </tr>\n",
       "    <tr>\n",
       "      <th>jill</th>\n",
       "      <td>321</td>\n",
       "      <td>M</td>\n",
       "      <td>3423</td>\n",
       "      <td>543</td>\n",
       "      <td>Japan</td>\n",
       "    </tr>\n",
       "    <tr>\n",
       "      <th>dibbo</th>\n",
       "      <td>21</td>\n",
       "      <td>M</td>\n",
       "      <td>2352143</td>\n",
       "      <td>23173</td>\n",
       "      <td>India</td>\n",
       "    </tr>\n",
       "    <tr>\n",
       "      <th>shani</th>\n",
       "      <td>13</td>\n",
       "      <td>M</td>\n",
       "      <td>2153632</td>\n",
       "      <td>321897</td>\n",
       "      <td>England</td>\n",
       "    </tr>\n",
       "    <tr>\n",
       "      <th>aakash</th>\n",
       "      <td>321</td>\n",
       "      <td>M</td>\n",
       "      <td>3423</td>\n",
       "      <td>543</td>\n",
       "      <td>Japan</td>\n",
       "    </tr>\n",
       "  </tbody>\n",
       "</table>\n",
       "</div>"
      ],
      "text/plain": [
       "           age gender   salary  promotion  country\n",
       "name                                              \n",
       "dev gupta   21      M  2352143      23173    India\n",
       "jack        13      M  2153632     321897  England\n",
       "jill       321      M     3423        543    Japan\n",
       "dibbo       21      M  2352143      23173    India\n",
       "shani       13      M  2153632     321897  England\n",
       "aakash     321      M     3423        543    Japan"
      ]
     },
     "execution_count": 82,
     "metadata": {},
     "output_type": "execute_result"
    }
   ],
   "source": [
    "import pandas as pd\n",
    "import numpy as np\n",
    "import matplotlib.pyplot as plt\n",
    "%matplotlib inline\n",
    "demo1 = pd.read_csv(\"new.csv\", index_col=0)\n",
    "demo2 = pd.read_csv(\"new2.csv\", index_col=0)\n",
    "demo = pd.concat([demo1, demo2], axis=0)\n",
    "demo\n",
    "# demo.isnull().any()\n"
   ]
  },
  {
   "cell_type": "code",
   "execution_count": 2,
   "metadata": {},
   "outputs": [
    {
     "name": "stdout",
     "output_type": "stream",
     "text": [
      "                                                   c1               c2   c3  \\\n",
      "1                                                                             \n",
      "2   1.7 Cubic Foot Compact \"Cube\" Office Refrigera...     Barry French  293   \n",
      "3    Cardinal Slant-D� Ring Binder, Heavy Gauge Vinyl     Barry French  293   \n",
      "4                                                R380    Clay Rozendal  483   \n",
      "5                            Holmes HEPA Air Purifier   Carlos Soltero  515   \n",
      "6   G.E. Longer-Life Indoor Recessed Floodlight Bulbs   Carlos Soltero  515   \n",
      "7   Angle-D Binders with Locking Rings, Label Holders     Carl Jackson  613   \n",
      "8             SAFCO Mobile Desk Side File, Wire Frame     Carl Jackson  613   \n",
      "9               SAFCO Commercial Wire Shelving, Black   Monica Federle  643   \n",
      "10                                          Xerox 198  Dorothy Badders  678   \n",
      "\n",
      "         c4      c5     c6       c7                              c8    c9  \n",
      "1                                                                          \n",
      "2    457.81  208.16  68.02  Nunavut                      Appliances  0.58  \n",
      "3     46.71    8.69   2.99  Nunavut  Binders and Binder Accessories  0.39  \n",
      "4   1198.97  195.99   3.99  Nunavut    Telephones and Communication  0.58  \n",
      "5     30.94   21.78   5.94  Nunavut                      Appliances  0.50  \n",
      "6      4.43    6.64   4.95  Nunavut              Office Furnishings  0.37  \n",
      "7    -54.04    7.30   7.72  Nunavut  Binders and Binder Accessories  0.38  \n",
      "8    127.70   42.76   6.22  Nunavut          Storage & Organization   NaN  \n",
      "9   -695.26  138.14  35.00  Nunavut          Storage & Organization   NaN  \n",
      "10  -226.36    4.98   8.33  Nunavut                           Paper  0.38  \n"
     ]
    },
    {
     "data": {
      "text/plain": [
       "<AxesSubplot:xlabel='c5', ylabel='c2'>"
      ]
     },
     "execution_count": 2,
     "metadata": {},
     "output_type": "execute_result"
    },
    {
     "data": {
      "image/png": "[encoded data removed]",
      "text/plain": [
       "<Figure size 1152x576 with 3 Axes>"
      ]
     },
     "metadata": {
      "needs_background": "light"
     },
     "output_type": "display_data"
    }
   ],
   "source": [
    "import pandas as pd\n",
    "import matplotlib.pyplot as plt\n",
    "from sklearn.metrics import r2_score, mean_squared_error\n",
    "from math import sqrt\n",
    "%matplotlib inline\n",
    "data = pd.read_csv(\"Good2.csv\", index_col=0)\n",
    "data.head()\n",
    "data.columns = ['c1', 'c2', 'c3', 'c4', 'c5', 'c6', 'c7', 'c8', 'c9']\n",
    "print(data)\n",
    "fig, axs = plt.subplots(1, 3, sharey=True)\n",
    "data.plot(kind='scatter', x='c1', y='c2', ax=axs[0], figsize=(16, 8))\n",
    "data.plot(kind='scatter', x='c3', y='c2', ax=axs[1], figsize=(16, 8))\n",
    "data.plot(kind='scatter', x='c5', y='c2', ax=axs[2], figsize=(16, 8))\n"
   ]
  },
  {
   "cell_type": "code",
   "execution_count": 16,
   "metadata": {},
   "outputs": [
    {
     "name": "stdout",
     "output_type": "stream",
     "text": [
      "171.9515672384135\n",
      "[-0.19653984]\n",
      "[114.36539358  38.69755448]\n",
      "31.900065149218857\n",
      "[-0.05678892 -0.02807016  0.2284037 ]\n",
      "29.254727863593533\n",
      "[-0.0545896  -0.0651113   0.40544615]\n",
      "35.57734907195706\n"
     ]
    },
    {
     "data": {
      "text/html": [
       "<div>\n",
       "<style scoped>\n",
       "    .dataframe tbody tr th:only-of-type {\n",
       "        vertical-align: middle;\n",
       "    }\n",
       "\n",
       "    .dataframe tbody tr th {\n",
       "        vertical-align: top;\n",
       "    }\n",
       "\n",
       "    .dataframe thead th {\n",
       "        text-align: right;\n",
       "    }\n",
       "</style>\n",
       "<table border=\"1\" class=\"dataframe\">\n",
       "  <thead>\n",
       "    <tr style=\"text-align: right;\">\n",
       "      <th></th>\n",
       "      <th>c1</th>\n",
       "      <th>c2</th>\n",
       "      <th>c3</th>\n",
       "      <th>c4</th>\n",
       "      <th>c5</th>\n",
       "      <th>c6</th>\n",
       "      <th>c7</th>\n",
       "      <th>c8</th>\n",
       "      <th>c9</th>\n",
       "      <th>Size</th>\n",
       "      <th>IsLarge</th>\n",
       "      <th>Area</th>\n",
       "      <th>Area_suburban</th>\n",
       "      <th>Area_urban</th>\n",
       "    </tr>\n",
       "    <tr>\n",
       "      <th>1</th>\n",
       "      <th></th>\n",
       "      <th></th>\n",
       "      <th></th>\n",
       "      <th></th>\n",
       "      <th></th>\n",
       "      <th></th>\n",
       "      <th></th>\n",
       "      <th></th>\n",
       "      <th></th>\n",
       "      <th></th>\n",
       "      <th></th>\n",
       "      <th></th>\n",
       "      <th></th>\n",
       "      <th></th>\n",
       "    </tr>\n",
       "  </thead>\n",
       "  <tbody>\n",
       "    <tr>\n",
       "      <th>2</th>\n",
       "      <td>1.7 Cubic Foot Compact \"Cube\" Office Refrigera...</td>\n",
       "      <td>Barry French</td>\n",
       "      <td>293</td>\n",
       "      <td>457.81</td>\n",
       "      <td>208.16</td>\n",
       "      <td>68.02</td>\n",
       "      <td>Nunavut</td>\n",
       "      <td>Appliances</td>\n",
       "      <td>0.58</td>\n",
       "      <td>large</td>\n",
       "      <td>1</td>\n",
       "      <td>rural</td>\n",
       "      <td>0</td>\n",
       "      <td>0</td>\n",
       "    </tr>\n",
       "    <tr>\n",
       "      <th>3</th>\n",
       "      <td>Cardinal Slant-D� Ring Binder, Heavy Gauge Vinyl</td>\n",
       "      <td>Barry French</td>\n",
       "      <td>293</td>\n",
       "      <td>46.71</td>\n",
       "      <td>8.69</td>\n",
       "      <td>2.99</td>\n",
       "      <td>Nunavut</td>\n",
       "      <td>Binders and Binder Accessories</td>\n",
       "      <td>0.39</td>\n",
       "      <td>small</td>\n",
       "      <td>0</td>\n",
       "      <td>urban</td>\n",
       "      <td>0</td>\n",
       "      <td>1</td>\n",
       "    </tr>\n",
       "    <tr>\n",
       "      <th>4</th>\n",
       "      <td>R380</td>\n",
       "      <td>Clay Rozendal</td>\n",
       "      <td>483</td>\n",
       "      <td>1198.97</td>\n",
       "      <td>195.99</td>\n",
       "      <td>3.99</td>\n",
       "      <td>Nunavut</td>\n",
       "      <td>Telephones and Communication</td>\n",
       "      <td>0.58</td>\n",
       "      <td>large</td>\n",
       "      <td>1</td>\n",
       "      <td>suburban</td>\n",
       "      <td>1</td>\n",
       "      <td>0</td>\n",
       "    </tr>\n",
       "    <tr>\n",
       "      <th>5</th>\n",
       "      <td>Holmes HEPA Air Purifier</td>\n",
       "      <td>Carlos Soltero</td>\n",
       "      <td>515</td>\n",
       "      <td>30.94</td>\n",
       "      <td>21.78</td>\n",
       "      <td>5.94</td>\n",
       "      <td>Nunavut</td>\n",
       "      <td>Appliances</td>\n",
       "      <td>0.50</td>\n",
       "      <td>small</td>\n",
       "      <td>0</td>\n",
       "      <td>urban</td>\n",
       "      <td>0</td>\n",
       "      <td>1</td>\n",
       "    </tr>\n",
       "    <tr>\n",
       "      <th>6</th>\n",
       "      <td>G.E. Longer-Life Indoor Recessed Floodlight Bulbs</td>\n",
       "      <td>Carlos Soltero</td>\n",
       "      <td>515</td>\n",
       "      <td>4.43</td>\n",
       "      <td>6.64</td>\n",
       "      <td>4.95</td>\n",
       "      <td>Nunavut</td>\n",
       "      <td>Office Furnishings</td>\n",
       "      <td>0.37</td>\n",
       "      <td>large</td>\n",
       "      <td>1</td>\n",
       "      <td>suburban</td>\n",
       "      <td>1</td>\n",
       "      <td>0</td>\n",
       "    </tr>\n",
       "  </tbody>\n",
       "</table>\n",
       "</div>"
      ],
      "text/plain": [
       "                                                  c1              c2   c3  \\\n",
       "1                                                                           \n",
       "2  1.7 Cubic Foot Compact \"Cube\" Office Refrigera...    Barry French  293   \n",
       "3   Cardinal Slant-D� Ring Binder, Heavy Gauge Vinyl    Barry French  293   \n",
       "4                                               R380   Clay Rozendal  483   \n",
       "5                           Holmes HEPA Air Purifier  Carlos Soltero  515   \n",
       "6  G.E. Longer-Life Indoor Recessed Floodlight Bulbs  Carlos Soltero  515   \n",
       "\n",
       "        c4      c5     c6       c7                              c8    c9  \\\n",
       "1                                                                          \n",
       "2   457.81  208.16  68.02  Nunavut                      Appliances  0.58   \n",
       "3    46.71    8.69   2.99  Nunavut  Binders and Binder Accessories  0.39   \n",
       "4  1198.97  195.99   3.99  Nunavut    Telephones and Communication  0.58   \n",
       "5    30.94   21.78   5.94  Nunavut                      Appliances  0.50   \n",
       "6     4.43    6.64   4.95  Nunavut              Office Furnishings  0.37   \n",
       "\n",
       "    Size  IsLarge      Area  Area_suburban  Area_urban  \n",
       "1                                                       \n",
       "2  large        1     rural              0           0  \n",
       "3  small        0     urban              0           1  \n",
       "4  large        1  suburban              1           0  \n",
       "5  small        0     urban              0           1  \n",
       "6  large        1  suburban              1           0  "
      ]
     },
     "execution_count": 16,
     "metadata": {},
     "output_type": "execute_result"
    },
    {
     "data": {
      "image/png": "[encoded data removed]",
      "text/plain": [
       "<Figure size 1600x800 with 3 Axes>"
      ]
     },
     "metadata": {},
     "output_type": "display_data"
    },
    {
     "data": {
      "image/png": "[encoded data removed]",
      "text/plain": [
       "<Figure size 640x480 with 1 Axes>"
      ]
     },
     "metadata": {},
     "output_type": "display_data"
    }
   ],
   "source": [
    "import statsmodels.formula.api as smf\n",
    "from sklearn import model_selection\n",
    "from sklearn.linear_model import LinearRegression\n",
    "import pandas as pd\n",
    "import matplotlib.pyplot as plt\n",
    "from sklearn.metrics import r2_score, mean_squared_error\n",
    "from math import sqrt\n",
    "import numpy as np\n",
    "%matplotlib inline\n",
    "data = pd.read_csv(\"Good2.csv\", index_col=0)\n",
    "data.head()\n",
    "data.columns = ['c1', 'c2', 'c3', 'c4', 'c5', 'c6', 'c7', 'c8', 'c9']\n",
    "data.shape\n",
    "fig, axs = plt.subplots(1, 3, sharey=True)\n",
    "data.plot(kind='scatter', x='c1', y='c5', ax=axs[0], figsize=(16, 8))\n",
    "data.plot(kind='scatter', x='c1', y='c3', ax=axs[1], figsize=(16, 8))\n",
    "data.plot(kind='scatter', x='c1', y='c4', ax=axs[2], figsize=(16, 8))\n",
    "# --------------------------------------------------------------\n",
    "feature_column = ['c3']\n",
    "x = data[feature_column]\n",
    "y = data.c5\n",
    "Im = LinearRegression()\n",
    "Im.fit(x, y)\n",
    "print(Im.intercept_)\n",
    "print(Im.coef_)\n",
    "171.95677-0.19653984*50\n",
    "X_new = pd.DataFrame({'c3': [50]})\n",
    "X_new.head()\n",
    "Im.predict(X_new)\n",
    "X_new = pd.DataFrame({'c3': [data.c3.min(), data.c3.max()]})\n",
    "X_new.head()\n",
    "predictions = Im.predict(X_new)\n",
    "print(predictions)\n",
    "# ----------to draw linear regression straight line graph---------------\n",
    "data.plot(kind='scatter', x='c3', y='c5')\n",
    "plt.plot(X_new, predictions, c='yellow', linewidth=3)\n",
    "# ---------------------------------Libraries to import-----------\n",
    "'''Im = smf.ols(formula='c3+c4+c5', data=data)\n",
    "Im.conf_int()\n",
    "Im.pvalues\n",
    "Im.rsquared\n",
    "'''\n",
    "feature_cols = ['c3', 'c4', 'c5']\n",
    "X = data[feature_cols]\n",
    "y = data.c6\n",
    "xtrain, xtest, ytrain, ytest = model_selection.train_test_split(\n",
    "    X, y, test_size=0.3, random_state=42)\n",
    "Im = LinearRegression()\n",
    "Im.fit(X, y)\n",
    "print(Im.intercept_)\n",
    "print(Im.coef_)\n",
    "Im = LinearRegression()\n",
    "Im.fit(xtrain, ytrain)\n",
    "print(Im.intercept_)\n",
    "print(Im.coef_)\n",
    "pred = Im.predict(xtest)\n",
    "print(sqrt(mean_squared_error(ytest, pred)))\n",
    "'''Im = smf.ols(formula='c3+c4+c5',data=data)#-----------to be compile in future\n",
    "Im.conf_int()\n",
    "Im.summary()\n",
    "Im.rsquared\n",
    "'''\n",
    "#np.random.seed(12345)\n",
    "nums = np.random.rand(len(data))\n",
    "mask_large = nums > 0.5\n",
    "data['Size'] = 'small'\n",
    "data.loc[mask_large, 'Size'] = 'large'\n",
    "data.head()\n",
    "data['IsLarge'] = data.Size.map({'small': 0, 'large': 1})\n",
    "data.head()\n",
    "feature_col = ['c3', 'c4', 'c5', 'IsLarge']\n",
    "X = data[feature_col]\n",
    "y = data.c6\n",
    "Im = LinearRegression()\n",
    "Im.fit(X, y)\n",
    "zip(feature_col, Im.coef_)\n",
    "np.random.seed(123456)\n",
    "num = np.random.rand(len(data))\n",
    "mask_urban = num > 0.66\n",
    "mask_suburban = (num > 0.25) & (num < .66)\n",
    "data['Area'] = 'rural'\n",
    "data.loc[mask_urban, 'Area'] = 'urban'\n",
    "data.loc[mask_suburban, 'Area'] = 'suburban'\n",
    "data.head()\n",
    "area_dummy = pd.get_dummies(data.Area, prefix='Area').iloc[:, 1:]\n",
    "data = pd.concat([data, area_dummy], axis=1)\n",
    "data.head()\n"
   ]
  },
  {
   "cell_type": "code",
   "execution_count": 16,
   "metadata": {},
   "outputs": [
    {
     "data": {
      "text/html": [
       "<div>\n",
       "<style scoped>\n",
       "    .dataframe tbody tr th:only-of-type {\n",
       "        vertical-align: middle;\n",
       "    }\n",
       "\n",
       "    .dataframe tbody tr th {\n",
       "        vertical-align: top;\n",
       "    }\n",
       "\n",
       "    .dataframe thead th {\n",
       "        text-align: right;\n",
       "    }\n",
       "</style>\n",
       "<table border=\"1\" class=\"dataframe\">\n",
       "  <thead>\n",
       "    <tr style=\"text-align: right;\">\n",
       "      <th></th>\n",
       "      <th>c1</th>\n",
       "      <th>c2</th>\n",
       "      <th>c3</th>\n",
       "      <th>c4</th>\n",
       "      <th>c5</th>\n",
       "      <th>c6</th>\n",
       "      <th>c7</th>\n",
       "      <th>c8</th>\n",
       "      <th>c9</th>\n",
       "      <th>Size</th>\n",
       "      <th>IsLarge</th>\n",
       "      <th>Area</th>\n",
       "    </tr>\n",
       "    <tr>\n",
       "      <th>1</th>\n",
       "      <th></th>\n",
       "      <th></th>\n",
       "      <th></th>\n",
       "      <th></th>\n",
       "      <th></th>\n",
       "      <th></th>\n",
       "      <th></th>\n",
       "      <th></th>\n",
       "      <th></th>\n",
       "      <th></th>\n",
       "      <th></th>\n",
       "      <th></th>\n",
       "    </tr>\n",
       "  </thead>\n",
       "  <tbody>\n",
       "    <tr>\n",
       "      <th>2</th>\n",
       "      <td>1.7 Cubic Foot Compact \"Cube\" Office Refrigera...</td>\n",
       "      <td>Barry French</td>\n",
       "      <td>293</td>\n",
       "      <td>457.81</td>\n",
       "      <td>208.16</td>\n",
       "      <td>68.02</td>\n",
       "      <td>Nunavut</td>\n",
       "      <td>Appliances</td>\n",
       "      <td>0.58</td>\n",
       "      <td>large</td>\n",
       "      <td>1</td>\n",
       "      <td>rural</td>\n",
       "    </tr>\n",
       "    <tr>\n",
       "      <th>3</th>\n",
       "      <td>Cardinal Slant-D� Ring Binder, Heavy Gauge Vinyl</td>\n",
       "      <td>Barry French</td>\n",
       "      <td>293</td>\n",
       "      <td>46.71</td>\n",
       "      <td>8.69</td>\n",
       "      <td>2.99</td>\n",
       "      <td>Nunavut</td>\n",
       "      <td>Binders and Binder Accessories</td>\n",
       "      <td>0.39</td>\n",
       "      <td>small</td>\n",
       "      <td>0</td>\n",
       "      <td>urban</td>\n",
       "    </tr>\n",
       "    <tr>\n",
       "      <th>4</th>\n",
       "      <td>R380</td>\n",
       "      <td>Clay Rozendal</td>\n",
       "      <td>483</td>\n",
       "      <td>1198.97</td>\n",
       "      <td>195.99</td>\n",
       "      <td>3.99</td>\n",
       "      <td>Nunavut</td>\n",
       "      <td>Telephones and Communication</td>\n",
       "      <td>0.58</td>\n",
       "      <td>small</td>\n",
       "      <td>0</td>\n",
       "      <td>suburban</td>\n",
       "    </tr>\n",
       "    <tr>\n",
       "      <th>5</th>\n",
       "      <td>Holmes HEPA Air Purifier</td>\n",
       "      <td>Carlos Soltero</td>\n",
       "      <td>515</td>\n",
       "      <td>30.94</td>\n",
       "      <td>21.78</td>\n",
       "      <td>5.94</td>\n",
       "      <td>Nunavut</td>\n",
       "      <td>Appliances</td>\n",
       "      <td>0.50</td>\n",
       "      <td>small</td>\n",
       "      <td>0</td>\n",
       "      <td>urban</td>\n",
       "    </tr>\n",
       "    <tr>\n",
       "      <th>6</th>\n",
       "      <td>G.E. Longer-Life Indoor Recessed Floodlight Bulbs</td>\n",
       "      <td>Carlos Soltero</td>\n",
       "      <td>515</td>\n",
       "      <td>4.43</td>\n",
       "      <td>6.64</td>\n",
       "      <td>4.95</td>\n",
       "      <td>Nunavut</td>\n",
       "      <td>Office Furnishings</td>\n",
       "      <td>0.37</td>\n",
       "      <td>large</td>\n",
       "      <td>1</td>\n",
       "      <td>suburban</td>\n",
       "    </tr>\n",
       "  </tbody>\n",
       "</table>\n",
       "</div>"
      ],
      "text/plain": [
       "                                                  c1              c2   c3  \\\n",
       "1                                                                           \n",
       "2  1.7 Cubic Foot Compact \"Cube\" Office Refrigera...    Barry French  293   \n",
       "3   Cardinal Slant-D� Ring Binder, Heavy Gauge Vinyl    Barry French  293   \n",
       "4                                               R380   Clay Rozendal  483   \n",
       "5                           Holmes HEPA Air Purifier  Carlos Soltero  515   \n",
       "6  G.E. Longer-Life Indoor Recessed Floodlight Bulbs  Carlos Soltero  515   \n",
       "\n",
       "        c4      c5     c6       c7                              c8    c9  \\\n",
       "1                                                                          \n",
       "2   457.81  208.16  68.02  Nunavut                      Appliances  0.58   \n",
       "3    46.71    8.69   2.99  Nunavut  Binders and Binder Accessories  0.39   \n",
       "4  1198.97  195.99   3.99  Nunavut    Telephones and Communication  0.58   \n",
       "5    30.94   21.78   5.94  Nunavut                      Appliances  0.50   \n",
       "6     4.43    6.64   4.95  Nunavut              Office Furnishings  0.37   \n",
       "\n",
       "    Size  IsLarge      Area  \n",
       "1                            \n",
       "2  large        1     rural  \n",
       "3  small        0     urban  \n",
       "4  small        0  suburban  \n",
       "5  small        0     urban  \n",
       "6  large        1  suburban  "
      ]
     },
     "execution_count": 16,
     "metadata": {},
     "output_type": "execute_result"
    }
   ],
   "source": [
    "import numpy as np\n",
    "np.random.seed(12345)\n",
    "nums=np.random.rand(len(data))\n",
    "mask_large=nums>0.5\n",
    "data['Size']='small'\n",
    "data.loc[mask_large,'Size']='large'\n",
    "data.head()\n",
    "data['IsLarge']=data.Size.map({'small':0,'large':1})\n",
    "data.head()\n",
    "feature_col=['c3','c4','c5','IsLarge']\n",
    "X=data[feature_col]\n",
    "y=data.c6\n",
    "Im=LinearRegression()\n",
    "Im.fit(X,y)\n",
    "zip(feature_col,Im.coef_)\n",
    "np.random.seed(123456)\n",
    "num=np.random.rand(len(data))\n",
    "mask_urban=num>0.66\n",
    "mask_suburban=(num>0.25)&(num<.66)\n",
    "data['Area']='rural'\n",
    "data.loc[mask_urban,'Area']='urban'\n",
    "data.loc[mask_suburban,'Area']='suburban'\n",
    "data.head()\n"
   ]
  },
  {
   "cell_type": "code",
   "execution_count": 22,
   "metadata": {},
   "outputs": [
    {
     "name": "stdout",
     "output_type": "stream",
     "text": [
      "(3, 6)\n",
      "     name  age gender   salary  promotion  country\n",
      "0   dibbo   21      M  2352143      23173    India\n",
      "1   shani   13      M  2153632     321897  England\n",
      "2  aakash  321      M     3423        543    Japan\n",
      "['dibbo' 'shani' 'aakash']\n",
      "     name  age gender   salary  promotion country\n",
      "0   dibbo   21      M  2352143      23173   India\n",
      "2  aakash  321      M     3423        543   Japan\n",
      "['M']\n"
     ]
    },
    {
     "data": {
      "text/plain": [
       "name         False\n",
       "age          False\n",
       "gender       False\n",
       "salary       False\n",
       "promotion    False\n",
       "country      False\n",
       "dtype: bool"
      ]
     },
     "execution_count": 22,
     "metadata": {},
     "output_type": "execute_result"
    }
   ],
   "source": [
    "from sklearn.impute import SimpleImputer\n",
    "import pandas as pd\n",
    "import numpy as np\n",
    "import matplotlib.pyplot as plt\n",
    "import seaborn as sns\n",
    "df = pd.read_csv(\"new2.csv\", delimiter=',')\n",
    "print(df.shape)\n",
    "print(df)\n",
    "salary = np.array(df['salary'])\n",
    "name = np.array(df[\"name\"])\n",
    "gender = np.array(df[\"gender\"])\n",
    "promotion = np.array(df[\"promotion\"])\n",
    "print(name)\n",
    "filter = df['age'].values >= 21\n",
    "final = df[filter]\n",
    "print(final)\n",
    "Unique = df[\"gender\"].unique()\n",
    "print(Unique)\n",
    "df.isna().any()"
   ]
  }
 ],
 "metadata": {
  "kernelspec": {
   "display_name": "Python 3.10.7 64-bit",
   "language": "python",
   "name": "python3"
  },
  "language_info": {
   "codemirror_mode": {
    "name": "ipython",
    "version": 3
   },
   "file_extension": ".py",
   "mimetype": "text/x-python",
   "name": "python",
   "nbconvert_exporter": "python",
   "pygments_lexer": "ipython3",
   "version": "3.10.7"
  },
  "orig_nbformat": 4,
  "vscode": {
   "interpreter": {
    "hash": "81b50054a333317fa92f0e3f8a94a56de39e573f9c7d32cd156a31422aefa77d"
   }
  }
 },
 "nbformat": 4,
 "nbformat_minor": 2
}
